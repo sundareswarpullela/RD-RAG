{
 "cells": [
  {
   "cell_type": "code",
   "execution_count": 1,
   "id": "2d6917bd-bcdd-4f1e-a92d-1ce25fc7faa3",
   "metadata": {},
   "outputs": [
    {
     "name": "stdout",
     "output_type": "stream",
     "text": [
      "Warning: scikit-learn-intelex not installed, sklearn acceleration for the RepC checker is not enabled.\n"
     ]
    }
   ],
   "source": [
    "from ragchecker import RAGResults, RAGChecker\n",
    "from ragchecker.metrics import all_metrics"
   ]
  },
  {
   "cell_type": "code",
   "execution_count": null,
   "id": "60183bd2-35e8-4598-9014-9b3f7d223330",
   "metadata": {},
   "outputs": [],
   "source": [
    "# initialize ragresults from json/dict\n",
    "with open(\"examples/checking_inputs.json\") as fp:\n",
    "    rag_results = RAGResults.from_json(fp.read())"
   ]
  },
  {
   "cell_type": "code",
   "execution_count": null,
   "id": "a78458f2-177d-4cd1-8e06-d1188129170a",
   "metadata": {},
   "outputs": [],
   "source": [
    "# set-up the evaluator\n",
    "evaluator = RAGChecker(\n",
    "    extractor_name=\"bedrock/meta.llama3-1-70b-instruct-v1:0\",\n",
    "    checker_name=\"bedrock/meta.llama3-1-70b-instruct-v1:0\",\n",
    "    batch_size_extractor=32,\n",
    "    batch_size_checker=32\n",
    ")"
   ]
  },
  {
   "cell_type": "code",
   "execution_count": null,
   "id": "0916bfaa-fa99-4542-a166-d9bc8b08c508",
   "metadata": {},
   "outputs": [],
   "source": []
  }
 ],
 "metadata": {
  "kernelspec": {
   "display_name": "Python 3 (ipykernel)",
   "language": "python",
   "name": "python3"
  },
  "language_info": {
   "codemirror_mode": {
    "name": "ipython",
    "version": 3
   },
   "file_extension": ".py",
   "mimetype": "text/x-python",
   "name": "python",
   "nbconvert_exporter": "python",
   "pygments_lexer": "ipython3",
   "version": "3.12.5"
  }
 },
 "nbformat": 4,
 "nbformat_minor": 5
}
